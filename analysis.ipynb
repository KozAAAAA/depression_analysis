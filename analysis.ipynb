{
 "cells": [
  {
   "cell_type": "code",
   "execution_count": 83,
   "metadata": {},
   "outputs": [],
   "source": [
    "import os.path\n",
    "import pandas as pd"
   ]
  },
  {
   "cell_type": "code",
   "execution_count": 84,
   "metadata": {},
   "outputs": [],
   "source": [
    "depression_df = pd.read_csv(\"data.tsv\", sep=\"\\t\", header=0)"
   ]
  },
  {
   "cell_type": "code",
   "execution_count": 85,
   "metadata": {},
   "outputs": [],
   "source": [
    "# TODO: Check if there are more columns that can be used to identify somatic depression\n",
    "somatic_dep_cols = [\n",
    "    \"AD_MDEA3\",  # apetite\n",
    "    \"AD_MDEA4\",  # sleep\n",
    "    \"AD_MDEA6\",  # fatigue\n",
    "]\n",
    "all_1 = depression_df[somatic_dep_cols].eq(1).all(axis=1)\n",
    "all_2 = depression_df[somatic_dep_cols].eq(2).all(axis=1)\n",
    "depression_df[\"SOMATICDEP\"] = -9\n",
    "depression_df.loc[all_1, \"SOMATICDEP\"] = 1\n",
    "depression_df.loc[all_2, \"SOMATICDEP\"] = 0"
   ]
  },
  {
   "cell_type": "code",
   "execution_count": 96,
   "metadata": {},
   "outputs": [],
   "source": [
    "age_col = [\"CATAG2\", \"CATAG3\", \"CATAG7\"][0]\n",
    "\n",
    "# fmt: off\n",
    "potential_causes_cols = [\n",
    "    \"NEWRACE2\", \"ANYINDEX\", \"MJANDCOKE\", \"ILLICITDRUGUSE\", \"LSYRILLICIT\", \"COKECRACK\", \"OTHERILLICIT\",\n",
    "    \"MARJLTYR\", \"MJCOKELY\", \"COCCRKLY\", \"MJGT12MO\", \"COCGT12MO\", \"ANYGT12MO\", \"ALCFMFPB\", \"IREDUC2\", \"EDU_DUMMY\",\n",
    "    \"INCOME\", \"INCOME_R\", \"POVERTY\", \"IRPRVHLT\", \"WORKFORCE\", \"EMPSTAT4\", \"REVERSEPOP\", \"MOVESPY2\", \"CACHAR\", \n",
    "    \"CATYPE\", \"CRIMEHIST\", \"ANYSDRUG\", \"ANYATTACK\", \"ANYTHEFT\", \"NUMARREST\", \"HEALTH2\", \"SCHDSICK\", \"SCHDSKIP\", \n",
    "    \"TXLCAD\", \"DSTNCALM\", \"DSTTIRE\", \"DSTSITST\", \"DSTDEPRS\", \"DSTCHEER\", \"DSTNRVOS\", \"YOWRSATP\", \"YOWRSPLN\", \n",
    "    \"ADWRDLOT\", \"ADWRSTHK\", \"YO_MDEA4\", \"ADWRSLEP\", \"ADWRSMOR\", \"YO_MDEA3\", \"ADWRELES\", \"IRMARIT\", \"NOMARR2\", \n",
    "    \"RKIDSHH\", \"MARRIED\", \"CHILDRENINHOME\"\n",
    "]\n",
    "# fmt: on\n",
    "depression_metric_cols = [\n",
    "    \"DEPRESSIONINDEX\",  # 0 - No depression to 9 - High depression\n",
    "    \"DEPEPISODE\",  # MDE lifetime\n",
    "    \"MDELASTYR\",  # MDE last year\n",
    "    \"ANYTXRXMDE\",  # treatment or medication last year\n",
    "]\n",
    "\n",
    "# split_cols = [\"IRSEX\", age_col, \"SOMATICDEP\"]\n",
    "split_cols = [\"IRSEX\", age_col]\n",
    "\n",
    "\n",
    "depression_df = depression_df[\n",
    "    potential_causes_cols + depression_metric_cols + split_cols\n",
    "]"
   ]
  },
  {
   "cell_type": "code",
   "execution_count": 97,
   "metadata": {},
   "outputs": [],
   "source": [
    "def split_by_cols(df, cols):\n",
    "    if not cols:\n",
    "        return df\n",
    "    col = cols[0]\n",
    "    categories = df[col].unique()\n",
    "    categories.sort()\n",
    "    dfs = {}\n",
    "    for category in categories:\n",
    "        sub_df = df[df[col] == category].reset_index(drop=True)\n",
    "        dfs[f\"{col}({category})\"] = split_by_cols(sub_df, cols[1:])\n",
    "\n",
    "    return dfs"
   ]
  },
  {
   "cell_type": "code",
   "execution_count": 100,
   "metadata": {},
   "outputs": [],
   "source": [
    "split_depression_dfs = split_by_cols(depression_df, split_cols)"
   ]
  },
  {
   "cell_type": "code",
   "execution_count": 7,
   "metadata": {},
   "outputs": [],
   "source": [
    "def get_corr(df, key, method, frac=1.0):\n",
    "    fn = f\"corr_{key}_{method}.csv\"\n",
    "    if not os.path.exists(fn):\n",
    "        df.sample(frac=frac).corr(method).to_csv(fn)\n",
    "    return pd.read_csv(fn, index_col=0)"
   ]
  },
  {
   "cell_type": "code",
   "execution_count": null,
   "metadata": {},
   "outputs": [
    {
     "name": "stdout",
     "output_type": "stream",
     "text": [
      "Processing age group: 1\n",
      "Processing pearson\n",
      "Processing spearman\n",
      "Processing age group: 2\n",
      "Processing pearson\n"
     ]
    }
   ],
   "source": [
    "corr_pearson_df = dict()\n",
    "corr_spearman_df = dict()\n",
    "for key, age_df in deppression_age_dfs.items():\n",
    "    print(f\"Processing age group: {key}\")\n",
    "    print(\"Processing pearson\")\n",
    "    corr_pearson_df[key] = get_corr(age_df, key, \"pearson\")\n",
    "    print(\"Processing spearman\")\n",
    "    corr_spearman_df[key] = get_corr(age_df, key, \"spearman\")"
   ]
  },
  {
   "cell_type": "code",
   "execution_count": null,
   "metadata": {},
   "outputs": [],
   "source": []
  }
 ],
 "metadata": {
  "kernelspec": {
   "display_name": "venv",
   "language": "python",
   "name": "python3"
  },
  "language_info": {
   "codemirror_mode": {
    "name": "ipython",
    "version": 3
   },
   "file_extension": ".py",
   "mimetype": "text/x-python",
   "name": "python",
   "nbconvert_exporter": "python",
   "pygments_lexer": "ipython3",
   "version": "3.10.12"
  }
 },
 "nbformat": 4,
 "nbformat_minor": 2
}
