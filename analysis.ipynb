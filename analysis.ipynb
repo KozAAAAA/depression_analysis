{
 "cells": [
  {
   "cell_type": "code",
   "execution_count": 36,
   "metadata": {},
   "outputs": [],
   "source": [
    "import os.path\n",
    "import pandas as pd\n",
    "import ppscore as pps"
   ]
  },
  {
   "cell_type": "code",
   "execution_count": 37,
   "metadata": {},
   "outputs": [],
   "source": [
    "depression_df = pd.read_csv(\"data.tsv\", sep=\"\\t\", header=0)"
   ]
  },
  {
   "cell_type": "markdown",
   "metadata": {},
   "source": [
    "### Add Somatic Depression Column"
   ]
  },
  {
   "cell_type": "code",
   "execution_count": 38,
   "metadata": {},
   "outputs": [],
   "source": [
    "somatic_dep_cols = [\n",
    "    \"AD_MDEA3\",  # apetite\n",
    "    \"AD_MDEA4\",  # sleep\n",
    "    \"AD_MDEA6\",  # fatigue\n",
    "]\n",
    "depression_df[\"SOMATICDEP\"] = -9\n",
    "any_2 = depression_df[somatic_dep_cols].eq(2).any(axis=1)\n",
    "all_1 = depression_df[somatic_dep_cols].eq(1).all(axis=1)\n",
    "depression_df.loc[any_2, \"SOMATICDEP\"] = 0\n",
    "depression_df.loc[all_1, \"SOMATICDEP\"] = 1"
   ]
  },
  {
   "cell_type": "markdown",
   "metadata": {},
   "source": [
    "### Choose Relevant Columns"
   ]
  },
  {
   "cell_type": "code",
   "execution_count": 39,
   "metadata": {},
   "outputs": [],
   "source": [
    "age_col = [\"CATAG2\", \"CATAG3\", \"CATAG7\"][0]\n",
    "\n",
    "# fmt: off\n",
    "potential_causes_cols = [\n",
    "    \"NEWRACE2\", \"ANYINDEX\", \"MJANDCOKE\", \"ILLICITDRUGUSE\", \"LSYRILLICIT\", \"COKECRACK\", \"OTHERILLICIT\",\n",
    "    \"MARJLTYR\", \"MJCOKELY\", \"COCCRKLY\", \"MJGT12MO\", \"COCGT12MO\", \"ANYGT12MO\", \"ALCFMFPB\", \"IREDUC2\", \"EDU_DUMMY\",\n",
    "    \"INCOME\", \"INCOME_R\", \"POVERTY\", \"IRPRVHLT\", \"WORKFORCE\", \"EMPSTAT4\", \"REVERSEPOP\", \"MOVESPY2\", \"CACHAR\", \n",
    "    \"CATYPE\", \"CRIMEHIST\", \"ANYSDRUG\", \"ANYATTACK\", \"ANYTHEFT\", \"NUMARREST\", \"HEALTH2\", \"SCHDSICK\", \"SCHDSKIP\", \n",
    "    \"TXLCAD\", \"DSTNCALM\", \"DSTTIRE\", \"DSTSITST\", \"DSTDEPRS\", \"DSTCHEER\", \"DSTNRVOS\", \"YOWRSATP\", \"YOWRSPLN\", \n",
    "    \"ADWRDLOT\", \"ADWRSTHK\", \"YO_MDEA4\", \"ADWRSLEP\", \"ADWRSMOR\", \"YO_MDEA3\", \"ADWRELES\", \"IRMARIT\", \"NOMARR2\", \n",
    "    \"RKIDSHH\", \"MARRIED\", \"CHILDRENINHOME\"\n",
    "]\n",
    "# fmt: on\n",
    "\n",
    "split_cols = [\"IRSEX\", age_col, \"SOMATICDEP\"]\n",
    "\n",
    "depression_df = depression_df[[\"DEPRESSIONINDEX\"] + potential_causes_cols + split_cols]"
   ]
  },
  {
   "cell_type": "code",
   "execution_count": 40,
   "metadata": {},
   "outputs": [],
   "source": [
    "depression_df = depression_df[depression_df[\"DEPRESSIONINDEX\"] != -9]"
   ]
  },
  {
   "cell_type": "markdown",
   "metadata": {},
   "source": [
    "### Preliminary Analysis\n",
    "Find N significantly different factors influencing the depression level."
   ]
  },
  {
   "cell_type": "code",
   "execution_count": 41,
   "metadata": {},
   "outputs": [],
   "source": [
    "def analyse(df):\n",
    "    print(\"Pearson\")\n",
    "    pearson_df = df.corr(\"pearson\")\n",
    "\n",
    "    print(\"Spearman\")\n",
    "    spearman_df = df.corr(\"spearman\")\n",
    "\n",
    "    print(\"PPS\")\n",
    "    pps_df = pps.matrix(df)[[\"x\", \"y\", \"ppscore\"]].pivot(\n",
    "        columns=\"x\", index=\"y\", values=\"ppscore\"\n",
    "    )\n",
    "    pps_df.index.name = None\n",
    "    pps_df.columns.name = None\n",
    "\n",
    "    return pearson_df, spearman_df, pps_df"
   ]
  },
  {
   "cell_type": "code",
   "execution_count": 42,
   "metadata": {},
   "outputs": [
    {
     "name": "stdout",
     "output_type": "stream",
     "text": [
      "Pearson\n",
      "Spearman\n",
      "PPS\n"
     ]
    }
   ],
   "source": [
    "pearson_df, spearman_df, pps_df = analyse(depression_df)"
   ]
  },
  {
   "cell_type": "markdown",
   "metadata": {},
   "source": [
    "### Analysis Performed For Different Groups"
   ]
  },
  {
   "cell_type": "code",
   "execution_count": 43,
   "metadata": {},
   "outputs": [],
   "source": [
    "def split_by_col(df, col):\n",
    "    categories = df[col].unique()\n",
    "    categories.sort()\n",
    "    dfs = {}\n",
    "    for category in categories:\n",
    "        dfs[f\"{category}\"] = df[df[col] == category].reset_index(drop=True)\n",
    "    return dfs\n",
    "\n",
    "\n",
    "def split_by_cols(df, cols):\n",
    "    dfs = {}\n",
    "    for col in cols:\n",
    "        dfs[col] = split_by_col(df, col)\n",
    "    return dfs"
   ]
  },
  {
   "cell_type": "code",
   "execution_count": 44,
   "metadata": {},
   "outputs": [],
   "source": [
    "depression_dfs = split_by_cols(depression_df, split_cols)"
   ]
  }
 ],
 "metadata": {
  "kernelspec": {
   "display_name": "venv",
   "language": "python",
   "name": "python3"
  },
  "language_info": {
   "codemirror_mode": {
    "name": "ipython",
    "version": 3
   },
   "file_extension": ".py",
   "mimetype": "text/x-python",
   "name": "python",
   "nbconvert_exporter": "python",
   "pygments_lexer": "ipython3",
   "version": "3.10.12"
  }
 },
 "nbformat": 4,
 "nbformat_minor": 2
}
